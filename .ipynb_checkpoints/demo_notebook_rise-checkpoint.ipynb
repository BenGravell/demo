{
 "cells": [
  {
   "cell_type": "markdown",
   "metadata": {
    "slideshow": {
     "slide_type": "slide"
    }
   },
   "source": [
    "# Demo Jupyter Notebook\n",
    "## Gradient descent optimizer"
   ]
  },
  {
   "cell_type": "markdown",
   "metadata": {
    "slideshow": {
     "slide_type": "slide"
    }
   },
   "source": [
    "Import required packages\n",
    "* `numpy` for matrix math operations\n",
    "* `matplotlib` for visualization\n",
    "* `functools` for function partialization"
   ]
  },
  {
   "cell_type": "code",
   "execution_count": null,
   "metadata": {
    "slideshow": {
     "slide_type": "fragment"
    }
   },
   "outputs": [],
   "source": [
    "import numpy as np\n",
    "import matplotlib.pyplot as plt\n",
    "from functools import partial"
   ]
  },
  {
   "cell_type": "markdown",
   "metadata": {
    "slideshow": {
     "slide_type": "subslide"
    }
   },
   "source": [
    "Turn off interactive plot updates and initialize a `figure`"
   ]
  },
  {
   "cell_type": "code",
   "execution_count": null,
   "metadata": {
    "slideshow": {
     "slide_type": "fragment"
    }
   },
   "outputs": [],
   "source": [
    "plt.ioff()\n",
    "plt.figure(figsize=(10, 8))"
   ]
  },
  {
   "cell_type": "markdown",
   "metadata": {
    "slideshow": {
     "slide_type": "slide"
    }
   },
   "source": [
    "Define the cost function and its gradient"
   ]
  },
  {
   "cell_type": "code",
   "execution_count": null,
   "metadata": {
    "slideshow": {
     "slide_type": "fragment"
    }
   },
   "outputs": [],
   "source": [
    "def cost_value_parametric(a, b, x):\n",
    "    x1, x2 = x[0], x[1]\n",
    "    return (a-x1)**2 + b*(x2-x1**2)**2\n",
    "\n",
    "\n",
    "def cost_gradient_parametric(a, b, x):\n",
    "    x1, x2 = x[0], x[1]\n",
    "    return 2*np.array([-(a-x1)-2*b*x1*(x2-x1**2),\n",
    "                       b*(x2-x1**2)])"
   ]
  },
  {
   "cell_type": "markdown",
   "metadata": {
    "slideshow": {
     "slide_type": "subslide"
    }
   },
   "source": [
    "Define the gradient descent step and algorithm"
   ]
  },
  {
   "cell_type": "code",
   "execution_count": null,
   "metadata": {
    "slideshow": {
     "slide_type": "fragment"
    }
   },
   "outputs": [],
   "source": [
    "def gradient_step_parametric(cost_gradient, step_size, x):\n",
    "    return x - step_size*cost_gradient(x)\n",
    "\n",
    "\n",
    "def gradient_descent(cost_gradient, step_size, num_iters, x0):\n",
    "    n = x0.size\n",
    "    x_history = np.full([num_iters, n], np.nan)\n",
    "    x_history[0] = x0\n",
    "    gradient_step = partial(gradient_step_parametric, cost_gradient, step_size)\n",
    "    for i in range(num_iters-1):\n",
    "        x_history[i+1] = gradient_step(x_history[i])\n",
    "    return x_history"
   ]
  },
  {
   "cell_type": "markdown",
   "metadata": {
    "slideshow": {
     "slide_type": "slide"
    }
   },
   "source": [
    "Problem definition"
   ]
  },
  {
   "cell_type": "code",
   "execution_count": null,
   "metadata": {
    "slideshow": {
     "slide_type": "fragment"
    }
   },
   "outputs": [],
   "source": [
    "a = 1\n",
    "b = 100\n",
    "cost_value = partial(cost_value_parametric, a, b)\n",
    "cost_gradient = partial(cost_gradient_parametric, a, b)\n",
    "x0 = np.array([2, -2])\n",
    "step_size = 0.0001\n",
    "num_iters = 100000"
   ]
  },
  {
   "cell_type": "markdown",
   "metadata": {
    "slideshow": {
     "slide_type": "subslide"
    }
   },
   "source": [
    "Sample the cost function over a grid"
   ]
  },
  {
   "cell_type": "code",
   "execution_count": null,
   "metadata": {
    "slideshow": {
     "slide_type": "fragment"
    }
   },
   "outputs": [],
   "source": [
    "x1_grid, x2_grid = np.meshgrid(np.linspace(-3, 3, 200), np.linspace(-3, 3, 200))\n",
    "c_grid = cost_value(np.stack([x1_grid, x2_grid]))\n",
    "plt.contourf(x1_grid, x2_grid, c_grid**0.25, levels=200)"
   ]
  },
  {
   "cell_type": "markdown",
   "metadata": {
    "slideshow": {
     "slide_type": "subslide"
    }
   },
   "source": [
    "Perform gradient descent"
   ]
  },
  {
   "cell_type": "code",
   "execution_count": null,
   "metadata": {
    "slideshow": {
     "slide_type": "fragment"
    }
   },
   "outputs": [],
   "source": [
    "x_history = gradient_descent(cost_gradient, step_size, num_iters, x0)\n",
    "c_history = cost_value(x_history)\n",
    "plt.plot(x_history[:,0], x_history[:,1], color='w', linewidth=4)\n",
    "bbox_props = dict(boxstyle='round', facecolor='w', edgecolor='k')\n",
    "plt.annotate('start', x0+0.2, bbox=bbox_props)\n",
    "plt.annotate('end', x_history[-1]+0.2, bbox=bbox_props)"
   ]
  },
  {
   "cell_type": "markdown",
   "metadata": {
    "slideshow": {
     "slide_type": "subslide"
    }
   },
   "source": [
    "Set plot options, then show the plot"
   ]
  },
  {
   "cell_type": "code",
   "execution_count": null,
   "metadata": {
    "slideshow": {
     "slide_type": "fragment"
    }
   },
   "outputs": [],
   "source": [
    "plt.colorbar()\n",
    "plt.axis('square')\n",
    "plt.show()"
   ]
  }
 ],
 "metadata": {
  "celltoolbar": "Slideshow",
  "kernelspec": {
   "display_name": "Python 3",
   "language": "python",
   "name": "python3"
  },
  "language_info": {
   "codemirror_mode": {
    "name": "ipython",
    "version": 3
   },
   "file_extension": ".py",
   "mimetype": "text/x-python",
   "name": "python",
   "nbconvert_exporter": "python",
   "pygments_lexer": "ipython3",
   "version": "3.7.5"
  }
 },
 "nbformat": 4,
 "nbformat_minor": 2
}
